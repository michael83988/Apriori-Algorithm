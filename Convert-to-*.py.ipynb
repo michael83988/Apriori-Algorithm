#將.ipynb檔轉成.py檔 -> 以利其他python檔的import
!jupyter nbconvert --to script Apriori.ipynb
